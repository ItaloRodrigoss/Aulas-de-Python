{
 "cells": [
  {
   "cell_type": "markdown",
   "metadata": {},
   "source": [
    "# Resposta do desafio 1\n",
    "\n",
    "- Crie um programa que realiza a contagem de 1 até 100, usando apenas números ímpares, ao final do processo exiba em tela quantos números ímpares foram emcontrados nesse intervalo, assim como a soma dos mesmos:"
   ]
  },
  {
   "cell_type": "code",
   "execution_count": 29,
   "metadata": {},
   "outputs": [
    {
     "name": "stdout",
     "output_type": "stream",
     "text": [
      "1\n",
      "3\n",
      "5\n",
      "7\n",
      "9\n",
      "11\n",
      "13\n",
      "15\n",
      "17\n",
      "19\n",
      "21\n",
      "23\n",
      "25\n",
      "27\n",
      "29\n",
      "31\n",
      "33\n",
      "35\n",
      "37\n",
      "39\n",
      "41\n",
      "43\n",
      "45\n",
      "47\n",
      "49\n",
      "51\n",
      "53\n",
      "55\n",
      "57\n",
      "59\n",
      "61\n",
      "63\n",
      "65\n",
      "67\n",
      "69\n",
      "71\n",
      "73\n",
      "75\n",
      "77\n",
      "79\n",
      "81\n",
      "83\n",
      "85\n",
      "87\n",
      "89\n",
      "91\n",
      "93\n",
      "95\n",
      "97\n",
      "99\n",
      "Quantidade de números ímpares encontrados: 50\n",
      "Soma dos números ímpares: 2500\n"
     ]
    }
   ],
   "source": [
    "# Inicializando variáveis para contar e somar números ímpares\n",
    "contador = 0\n",
    "soma = 0\n",
    "\n",
    "# Loop de 1 até 100, incrementando de 1 em 1\n",
    "for num in range(1, 101):\n",
    "    if num % 2 != 0: \n",
    "        print(num)\n",
    "\n",
    "        contador += 1  \n",
    "        soma += num  \n",
    "\n",
    "# Exibe o resultado final\n",
    "print(f\"Quantidade de números ímpares encontrados: {count_impares}\")\n",
    "print(f\"Soma dos números ímpares: {soma_impares}\")"
   ]
  },
  {
   "cell_type": "markdown",
   "metadata": {},
   "source": [
    "# Resposta do desafio 2\n",
    "\n",
    "- Crie uma lista de tarefas basica, onde você pode adicionar quantas tarefas você desejar\n",
    "    - Use While\n",
    "    - Use For\n",
    "    - Use if else\n",
    "    - Use os ('cls')"
   ]
  },
  {
   "cell_type": "code",
   "execution_count": 27,
   "metadata": {},
   "outputs": [
    {
     "name": "stdout",
     "output_type": "stream",
     "text": [
      "### Lista de Tarefas ###\n",
      "\n",
      "Nenhuma tarefa adicionada.\n",
      "\n",
      "O que deseja fazer?\n",
      "1. Adicionar uma nova tarefa\n",
      "2. Sair\n",
      "### Lista de Tarefas ###\n",
      "\n",
      "Tarefas:\n",
      "1. Dormir\n",
      "\n",
      "O que deseja fazer?\n",
      "1. Adicionar uma nova tarefa\n",
      "2. Sair\n",
      "### Lista de Tarefas ###\n",
      "\n",
      "Tarefas:\n",
      "1. Dormir\n",
      "2. comer\n",
      "\n",
      "O que deseja fazer?\n",
      "1. Adicionar uma nova tarefa\n",
      "2. Sair\n",
      "### Lista de Tarefas ###\n",
      "\n",
      "Tarefas:\n",
      "1. Dormir\n",
      "2. comer\n",
      "3. sair\n",
      "\n",
      "O que deseja fazer?\n",
      "1. Adicionar uma nova tarefa\n",
      "2. Sair\n",
      "\n",
      "Saindo...\n",
      "\n",
      "Programa encerrado.\n"
     ]
    }
   ],
   "source": [
    "import os\n",
    "\n",
    "def limpar_tela():\n",
    "    os.system('cls' if os.name == 'nt' else 'clear')\n",
    "\n",
    "# Lista inicial de tarefas\n",
    "tarefas = []\n",
    "\n",
    "while True:\n",
    "    limpar_tela()\n",
    "    print(\"### Lista de Tarefas ###\\n\")\n",
    "    \n",
    "    # Exibindo todas as tarefas\n",
    "    if len(tarefas) == 0:\n",
    "        print(\"Nenhuma tarefa adicionada.\")\n",
    "    else:\n",
    "        print(\"Tarefas:\")\n",
    "        for idx, tarefa in enumerate(tarefas, start=1):\n",
    "            print(f\"{idx}. {tarefa}\")\n",
    "\n",
    "    print(\"\\nO que deseja fazer?\")\n",
    "    print(\"1. Adicionar uma nova tarefa\")\n",
    "    print(\"2. Sair\")\n",
    "\n",
    "    escolha = input(\"\\nDigite o número da opção desejada: \")\n",
    "\n",
    "    if escolha == '1':\n",
    "        nova_tarefa = input(\"\\nDigite a nova tarefa: \")\n",
    "        tarefas.append(nova_tarefa)\n",
    "    elif escolha == '2':\n",
    "        print(\"\\nSaindo...\")\n",
    "        break\n",
    "    else:\n",
    "        input(\"\\nOpção inválida! Pressione Enter para continuar.\")\n",
    "\n",
    "print(\"\\nPrograma encerrado.\")"
   ]
  },
  {
   "cell_type": "markdown",
   "metadata": {},
   "source": [
    "# Resposta do desafio 3\n",
    "\n",
    "- Crie um programa que pede o usuario que o mesmo digite um número qualquer, em seguida retorne se esse número é primo ou não, caso não seja, retorne tambem a quantas vezes esse número é divisível:\n",
    "Número primo é aquele que apenas é divisível por 1 ou por ele mesmo, temos de criar essa condição lógica para poder solucionar esse exercício."
   ]
  },
  {
   "cell_type": "code",
   "execution_count": 26,
   "metadata": {},
   "outputs": [
    {
     "name": "stdout",
     "output_type": "stream",
     "text": [
      "O número 15 não é primo. É divisível 2 vezes.\n"
     ]
    }
   ],
   "source": [
    "def verificar_primo(numero):\n",
    "    if numero <= 1:\n",
    "        return False, 0  \n",
    "    divisivel_count = 0\n",
    "    for i in range(2, numero):\n",
    "        if numero % i == 0:\n",
    "            divisivel_count += 1\n",
    "\n",
    "    if divisivel_count == 0:\n",
    "        return True, 0 \n",
    "    else:\n",
    "        return False, divisivel_count  \n",
    "    \n",
    "# Solicita ao usuário que digite um número\n",
    "numero = int(input(\"Digite um número inteiro positivo maior que 1: \"))\n",
    "\n",
    "# Verifica se o número é primo e obtém quantas vezes é divisível\n",
    "primo, qtd_divisiveis = verificar_primo(numero)\n",
    "\n",
    "# Exibe o resultado\n",
    "if primo:\n",
    "    print(f\"O número {numero} é primo.\")\n",
    "else:\n",
    "    print(f\"O número {numero} não é primo. É divisível {qtd_divisiveis} vezes.\")"
   ]
  }
 ],
 "metadata": {
  "kernelspec": {
   "display_name": "Python 3",
   "language": "python",
   "name": "python3"
  },
  "language_info": {
   "codemirror_mode": {
    "name": "ipython",
    "version": 3
   },
   "file_extension": ".py",
   "mimetype": "text/x-python",
   "name": "python",
   "nbconvert_exporter": "python",
   "pygments_lexer": "ipython3",
   "version": "3.12.4"
  }
 },
 "nbformat": 4,
 "nbformat_minor": 2
}

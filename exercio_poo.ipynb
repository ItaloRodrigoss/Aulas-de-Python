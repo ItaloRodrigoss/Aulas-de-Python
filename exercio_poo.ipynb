{
 "cells": [
  {
   "cell_type": "code",
   "execution_count": 1,
   "metadata": {},
   "outputs": [
    {
     "name": "stdout",
     "output_type": "stream",
     "text": [
      "Alô mundo!\n"
     ]
    }
   ],
   "source": [
    "print(\"Alô mundo!\")"
   ]
  },
  {
   "cell_type": "markdown",
   "metadata": {},
   "source": [
    "Exercicio:\n",
    "\n",
    "Criar uma classe Produto\n",
    "com uma função para calcular o valor do produto."
   ]
  },
  {
   "cell_type": "markdown",
   "metadata": {},
   "source": [
    "Lista de Regras\n",
    "\n",
    "- A classe é um conjunto de objetos;\n",
    "- A classe agrupa objetos em comum;\n",
    "- A classe possui um contrutor __init__;\n",
    "- As caracteristicas dos objetos são atributos;\n",
    "- O self acessa as caracteristicas e comportamentos da classe.\n",
    "- Os metodos de trabalho (workers - Oziel Moreira Neto): são metodos para calcular, desenvolver a lógica de programação."
   ]
  },
  {
   "cell_type": "code",
   "execution_count": 18,
   "metadata": {},
   "outputs": [],
   "source": [
    "class Produto:\n",
    "    def __init__(self,valor,qtd):\n",
    "        self.qtd = qtd\n",
    "        self.valor = valor\n",
    "    \n",
    "    def calcular_total(self):\n",
    "        return self.qtd * self.valor"
   ]
  },
  {
   "cell_type": "code",
   "execution_count": 19,
   "metadata": {},
   "outputs": [
    {
     "name": "stdout",
     "output_type": "stream",
     "text": [
      "O valor total de melancias é:100\n"
     ]
    }
   ],
   "source": [
    "p = Produto(qtd=10,valor=10)\n",
    "\n",
    "print(f\"O valor total de melancias é:{p.calcular_total()}\")"
   ]
  },
  {
   "cell_type": "markdown",
   "metadata": {},
   "source": [
    "Desafio:\n",
    "\n",
    "- Analise o dataset aluguel.csv da aula passada.\n",
    "- E crie uma classe que representará o arquivo.\n",
    "- Crie três imóveis(objetos) que estão no dataset."
   ]
  },
  {
   "cell_type": "markdown",
   "metadata": {},
   "source": [
    "1º) importar o pandas"
   ]
  },
  {
   "cell_type": "markdown",
   "metadata": {},
   "source": [
    "2º) analisar o dataset"
   ]
  },
  {
   "cell_type": "markdown",
   "metadata": {},
   "source": [
    "3º) pesquisar o cabçalho"
   ]
  },
  {
   "cell_type": "markdown",
   "metadata": {},
   "source": [
    "4º) verificar colunas"
   ]
  },
  {
   "cell_type": "markdown",
   "metadata": {},
   "source": [
    "5º) escolher as clounas"
   ]
  },
  {
   "cell_type": "markdown",
   "metadata": {},
   "source": [
    "6º) criar a classe"
   ]
  },
  {
   "cell_type": "markdown",
   "metadata": {},
   "source": [
    "7º) criar objetos com valores"
   ]
  },
  {
   "cell_type": "code",
   "execution_count": 2,
   "metadata": {},
   "outputs": [],
   "source": [
    "import pandas as pd"
   ]
  },
  {
   "cell_type": "code",
   "execution_count": 3,
   "metadata": {},
   "outputs": [
    {
     "data": {
      "text/html": [
       "<div>\n",
       "<style scoped>\n",
       "    .dataframe tbody tr th:only-of-type {\n",
       "        vertical-align: middle;\n",
       "    }\n",
       "\n",
       "    .dataframe tbody tr th {\n",
       "        vertical-align: top;\n",
       "    }\n",
       "\n",
       "    .dataframe thead th {\n",
       "        text-align: right;\n",
       "    }\n",
       "</style>\n",
       "<table border=\"1\" class=\"dataframe\">\n",
       "  <thead>\n",
       "    <tr style=\"text-align: right;\">\n",
       "      <th></th>\n",
       "      <th>Tipo;Bairro;Quartos;Vagas;Suites;Area;Valor;Condominio;IPTU</th>\n",
       "    </tr>\n",
       "  </thead>\n",
       "  <tbody>\n",
       "    <tr>\n",
       "      <th>0</th>\n",
       "      <td>Quitinete;Copacabana;1;0;0;40;1700;500;60</td>\n",
       "    </tr>\n",
       "    <tr>\n",
       "      <th>1</th>\n",
       "      <td>Casa;Jardim Botânico;2;0;1;100;7000;;</td>\n",
       "    </tr>\n",
       "    <tr>\n",
       "      <th>2</th>\n",
       "      <td>Conjunto Comercial/Sala;Barra da Tijuca;0;4;0;...</td>\n",
       "    </tr>\n",
       "    <tr>\n",
       "      <th>3</th>\n",
       "      <td>Apartamento;Centro;1;0;0;15;800;390;20</td>\n",
       "    </tr>\n",
       "    <tr>\n",
       "      <th>4</th>\n",
       "      <td>Apartamento;Higienópolis;1;0;0;48;800;230;</td>\n",
       "    </tr>\n",
       "    <tr>\n",
       "      <th>...</th>\n",
       "      <td>...</td>\n",
       "    </tr>\n",
       "    <tr>\n",
       "      <th>32955</th>\n",
       "      <td>Quitinete;Centro;0;0;0;27;800;350;25</td>\n",
       "    </tr>\n",
       "    <tr>\n",
       "      <th>32956</th>\n",
       "      <td>Apartamento;Jacarepaguá;3;1;2;78;1800;800;40</td>\n",
       "    </tr>\n",
       "    <tr>\n",
       "      <th>32957</th>\n",
       "      <td>Apartamento;São Francisco Xavier;2;1;0;48;1400...</td>\n",
       "    </tr>\n",
       "    <tr>\n",
       "      <th>32958</th>\n",
       "      <td>Apartamento;Leblon;2;0;0;70;3000;760;</td>\n",
       "    </tr>\n",
       "    <tr>\n",
       "      <th>32959</th>\n",
       "      <td>Conjunto Comercial/Sala;Centro;0;0;0;250;6500;...</td>\n",
       "    </tr>\n",
       "  </tbody>\n",
       "</table>\n",
       "<p>32960 rows × 1 columns</p>\n",
       "</div>"
      ],
      "text/plain": [
       "      Tipo;Bairro;Quartos;Vagas;Suites;Area;Valor;Condominio;IPTU\n",
       "0              Quitinete;Copacabana;1;0;0;40;1700;500;60         \n",
       "1                  Casa;Jardim Botânico;2;0;1;100;7000;;         \n",
       "2      Conjunto Comercial/Sala;Barra da Tijuca;0;4;0;...         \n",
       "3                 Apartamento;Centro;1;0;0;15;800;390;20         \n",
       "4             Apartamento;Higienópolis;1;0;0;48;800;230;         \n",
       "...                                                  ...         \n",
       "32955               Quitinete;Centro;0;0;0;27;800;350;25         \n",
       "32956       Apartamento;Jacarepaguá;3;1;2;78;1800;800;40         \n",
       "32957  Apartamento;São Francisco Xavier;2;1;0;48;1400...         \n",
       "32958              Apartamento;Leblon;2;0;0;70;3000;760;         \n",
       "32959  Conjunto Comercial/Sala;Centro;0;0;0;250;6500;...         \n",
       "\n",
       "[32960 rows x 1 columns]"
      ]
     },
     "execution_count": 3,
     "metadata": {},
     "output_type": "execute_result"
    }
   ],
   "source": [
    "url = \"dataset/aluguel.csv\"\n",
    "pd.read_csv(url)"
   ]
  },
  {
   "cell_type": "code",
   "execution_count": 5,
   "metadata": {},
   "outputs": [],
   "source": [
    "df = pd.read_csv(url,sep=\";\")"
   ]
  },
  {
   "cell_type": "code",
   "execution_count": 22,
   "metadata": {},
   "outputs": [
    {
     "data": {
      "text/plain": [
       "pandas.core.frame.DataFrame"
      ]
     },
     "execution_count": 22,
     "metadata": {},
     "output_type": "execute_result"
    }
   ],
   "source": [
    "df.groupby('Tipo')['Valor'].mean()\n",
    "type(df)"
   ]
  },
  {
   "cell_type": "code",
   "execution_count": 28,
   "metadata": {},
   "outputs": [
    {
     "data": {
      "text/html": [
       "<div>\n",
       "<style scoped>\n",
       "    .dataframe tbody tr th:only-of-type {\n",
       "        vertical-align: middle;\n",
       "    }\n",
       "\n",
       "    .dataframe tbody tr th {\n",
       "        vertical-align: top;\n",
       "    }\n",
       "\n",
       "    .dataframe thead th {\n",
       "        text-align: right;\n",
       "    }\n",
       "</style>\n",
       "<table border=\"1\" class=\"dataframe\">\n",
       "  <thead>\n",
       "    <tr style=\"text-align: right;\">\n",
       "      <th></th>\n",
       "      <th>Tipo</th>\n",
       "      <th>Bairro</th>\n",
       "      <th>Valor</th>\n",
       "    </tr>\n",
       "  </thead>\n",
       "  <tbody>\n",
       "    <tr>\n",
       "      <th>0</th>\n",
       "      <td>Quitinete</td>\n",
       "      <td>Copacabana</td>\n",
       "      <td>1700.0</td>\n",
       "    </tr>\n",
       "    <tr>\n",
       "      <th>1</th>\n",
       "      <td>Casa</td>\n",
       "      <td>Jardim Botânico</td>\n",
       "      <td>7000.0</td>\n",
       "    </tr>\n",
       "    <tr>\n",
       "      <th>2</th>\n",
       "      <td>Conjunto Comercial/Sala</td>\n",
       "      <td>Barra da Tijuca</td>\n",
       "      <td>5200.0</td>\n",
       "    </tr>\n",
       "    <tr>\n",
       "      <th>3</th>\n",
       "      <td>Apartamento</td>\n",
       "      <td>Centro</td>\n",
       "      <td>800.0</td>\n",
       "    </tr>\n",
       "    <tr>\n",
       "      <th>4</th>\n",
       "      <td>Apartamento</td>\n",
       "      <td>Higienópolis</td>\n",
       "      <td>800.0</td>\n",
       "    </tr>\n",
       "    <tr>\n",
       "      <th>...</th>\n",
       "      <td>...</td>\n",
       "      <td>...</td>\n",
       "      <td>...</td>\n",
       "    </tr>\n",
       "    <tr>\n",
       "      <th>32955</th>\n",
       "      <td>Quitinete</td>\n",
       "      <td>Centro</td>\n",
       "      <td>800.0</td>\n",
       "    </tr>\n",
       "    <tr>\n",
       "      <th>32956</th>\n",
       "      <td>Apartamento</td>\n",
       "      <td>Jacarepaguá</td>\n",
       "      <td>1800.0</td>\n",
       "    </tr>\n",
       "    <tr>\n",
       "      <th>32957</th>\n",
       "      <td>Apartamento</td>\n",
       "      <td>São Francisco Xavier</td>\n",
       "      <td>1400.0</td>\n",
       "    </tr>\n",
       "    <tr>\n",
       "      <th>32958</th>\n",
       "      <td>Apartamento</td>\n",
       "      <td>Leblon</td>\n",
       "      <td>3000.0</td>\n",
       "    </tr>\n",
       "    <tr>\n",
       "      <th>32959</th>\n",
       "      <td>Conjunto Comercial/Sala</td>\n",
       "      <td>Centro</td>\n",
       "      <td>6500.0</td>\n",
       "    </tr>\n",
       "  </tbody>\n",
       "</table>\n",
       "<p>32960 rows × 3 columns</p>\n",
       "</div>"
      ],
      "text/plain": [
       "                          Tipo                Bairro   Valor\n",
       "0                    Quitinete            Copacabana  1700.0\n",
       "1                         Casa       Jardim Botânico  7000.0\n",
       "2      Conjunto Comercial/Sala       Barra da Tijuca  5200.0\n",
       "3                  Apartamento                Centro   800.0\n",
       "4                  Apartamento          Higienópolis   800.0\n",
       "...                        ...                   ...     ...\n",
       "32955                Quitinete                Centro   800.0\n",
       "32956              Apartamento           Jacarepaguá  1800.0\n",
       "32957              Apartamento  São Francisco Xavier  1400.0\n",
       "32958              Apartamento                Leblon  3000.0\n",
       "32959  Conjunto Comercial/Sala                Centro  6500.0\n",
       "\n",
       "[32960 rows x 3 columns]"
      ]
     },
     "execution_count": 28,
     "metadata": {},
     "output_type": "execute_result"
    }
   ],
   "source": [
    "df[['Tipo','Bairro','Valor']]"
   ]
  },
  {
   "cell_type": "code",
   "execution_count": 36,
   "metadata": {},
   "outputs": [
    {
     "name": "stdout",
     "output_type": "stream",
     "text": [
      "Olá, Este imovel Casa Localizado Centro e custa 800.0\n",
      "Olá, Este imovel Apartamento Localizado Lembron e custa 1800.0\n",
      "Olá, Este imovel Quitinete Localizado Barra da Tijuca e custa 5200.0\n"
     ]
    }
   ],
   "source": [
    "class Imovel:\n",
    "    def __init__(self,Tipo,Bairro,Valor):\n",
    "        self.Tipo = Tipo\n",
    "        self.Bairro = Bairro\n",
    "        self.valor = Valor\n",
    "    \n",
    "    def apresentar(self):\n",
    "        print(\"Olá, Este imovel\", self.Tipo, \"Localizado\", self.Bairro, \"e custa\", self.valor)\n",
    "\n",
    "    \n",
    "\n",
    "Imovel1 = Imovel(\"Casa\",\"Centro\",800.0)\n",
    "Imovel1.apresentar()\n",
    "    \n",
    "Imovel2 = Imovel(\"Apartamento\",\"Lembron\",1800.0)\n",
    "Imovel2.apresentar()\n",
    "\n",
    "Imovel3 = Imovel(\"Quitinete\",\"Barra da Tijuca\", 5200.0)\n",
    "Imovel3.apresentar()"
   ]
  },
  {
   "cell_type": "markdown",
   "metadata": {},
   "source": [
    "Gabarito - Respostas - Dúvidas - Questôes"
   ]
  },
  {
   "cell_type": "markdown",
   "metadata": {},
   "source": [
    "1 - escolher as colunas\n",
    "\n",
    "- Tipo\n",
    "- Bairro\n",
    "- Valor"
   ]
  },
  {
   "cell_type": "code",
   "execution_count": 1,
   "metadata": {},
   "outputs": [],
   "source": [
    "class Imovel():\n",
    "    def __init__(self,Tipo,Bairro,Valor):\n",
    "        self.Tipo = Tipo\n",
    "        self.Bairro = Bairro\n",
    "        self.valor = Valor\n"
   ]
  },
  {
   "cell_type": "markdown",
   "metadata": {},
   "source": [
    "simulando três imóveis"
   ]
  },
  {
   "cell_type": "code",
   "execution_count": 2,
   "metadata": {},
   "outputs": [],
   "source": [
    "i1 = Imovel(2,3,678.56)\n",
    "i2 = Imovel(2,3,678.56)\n",
    "i3 = Imovel(2,3,678.56)"
   ]
  },
  {
   "cell_type": "code",
   "execution_count": 3,
   "metadata": {},
   "outputs": [
    {
     "name": "stdout",
     "output_type": "stream",
     "text": [
      "suites:2 Bairro:3 Valor:678.56\n",
      "suites:2 Bairro:3 Valor:678.56\n",
      "suites:2 Bairro:3 Valor:678.56\n"
     ]
    }
   ],
   "source": [
    "print(f\"suites:{i1.Tipo} Bairro:{i1.Bairro} Valor:{i1.valor}\")\n",
    "print(f\"suites:{i2.Tipo} Bairro:{i2.Bairro} Valor:{i2.valor}\")\n",
    "print(f\"suites:{i3.Tipo} Bairro:{i3.Bairro} Valor:{i3.valor}\")"
   ]
  },
  {
   "cell_type": "markdown",
   "metadata": {},
   "source": [
    "# Criar um calculadora orientada a objetos."
   ]
  }
 ],
 "metadata": {
  "kernelspec": {
   "display_name": ".venv",
   "language": "python",
   "name": "python3"
  },
  "language_info": {
   "codemirror_mode": {
    "name": "ipython",
    "version": 3
   },
   "file_extension": ".py",
   "mimetype": "text/x-python",
   "name": "python",
   "nbconvert_exporter": "python",
   "pygments_lexer": "ipython3",
   "version": "3.12.4"
  }
 },
 "nbformat": 4,
 "nbformat_minor": 2
}

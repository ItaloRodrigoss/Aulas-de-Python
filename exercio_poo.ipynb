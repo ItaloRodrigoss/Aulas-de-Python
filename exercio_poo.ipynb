{
 "cells": [
  {
   "cell_type": "code",
   "execution_count": 1,
   "metadata": {},
   "outputs": [
    {
     "name": "stdout",
     "output_type": "stream",
     "text": [
      "Alô mundo!\n"
     ]
    }
   ],
   "source": [
    "print(\"Alô mundo!\")"
   ]
  },
  {
   "cell_type": "markdown",
   "metadata": {},
   "source": [
    "Exercicio:\n",
    "\n",
    "Criar uma classe Produto\n",
    "com uma função para calcular o valor do produto."
   ]
  },
  {
   "cell_type": "markdown",
   "metadata": {},
   "source": [
    "Lista de Regras\n",
    "\n",
    "- A classe é um conjunto de objetos;\n",
    "- A classe agrupa objetos em comum;\n",
    "- A classe possui um contrutor __init__;\n",
    "- As caracteristicas dos objetos são atributos;\n",
    "- O self acessa as caracteristicas e comportamentos da classe.\n",
    "- Os metodos de trabalho (workers - Oziel Moreira Neto): são metodos para calcular, desenvolver a lógica de programação."
   ]
  },
  {
   "cell_type": "code",
   "execution_count": 7,
   "metadata": {},
   "outputs": [],
   "source": [
    "class Produto:\n",
    "    def __init__(self,valor,qtd):\n",
    "        self.qtd = qtd\n",
    "        self.valor = valor\n",
    "    \n",
    "    def calcular_total(self):\n",
    "        return self.qtd * self.valor"
   ]
  },
  {
   "cell_type": "code",
   "execution_count": 8,
   "metadata": {},
   "outputs": [
    {
     "name": "stdout",
     "output_type": "stream",
     "text": [
      "O valor total de melancias é:100\n"
     ]
    }
   ],
   "source": [
    "p = Produto(qtd=10,valor=10)\n",
    "\n",
    "print(f\"O valor total de melancias é:{p.calcular_total()}\")"
   ]
  },
  {
   "cell_type": "markdown",
   "metadata": {},
   "source": [
    "Desafio:\n",
    "\n",
    "- Analise o dataset aluguel.csv da aula passada.\n",
    "- E crie uma classe que representará o arquivo.\n",
    "- Crie três imóveis(objetos) que estão no dataset."
   ]
  },
  {
   "cell_type": "code",
   "execution_count": null,
   "metadata": {},
   "outputs": [],
   "source": []
  },
  {
   "cell_type": "code",
   "execution_count": 1,
   "metadata": {},
   "outputs": [],
   "source": [
    "class Imovel:\n",
    "    def __init__(self,Apto,Casa,predio):\n",
    "        self.Apto = Apto\n",
    "        self.Casa = Casa\n",
    "        self.predio = predio"
   ]
  }
 ],
 "metadata": {
  "kernelspec": {
   "display_name": ".venv",
   "language": "python",
   "name": "python3"
  },
  "language_info": {
   "codemirror_mode": {
    "name": "ipython",
    "version": 3
   },
   "file_extension": ".py",
   "mimetype": "text/x-python",
   "name": "python",
   "nbconvert_exporter": "python",
   "pygments_lexer": "ipython3",
   "version": "3.12.4"
  }
 },
 "nbformat": 4,
 "nbformat_minor": 2
}
